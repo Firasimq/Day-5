{
 "cells": [
  {
   "cell_type": "markdown",
   "metadata": {},
   "source": [
    "# Python_Lab_3\n"
   ]
  },
  {
   "cell_type": "markdown",
   "metadata": {},
   "source": [
    "### Task 1\n",
    "- Write a function named **'create_student_records'** that takes a list of tuples. Each tuple contains a student's name and their scores in three subjects. The function should return a list of dictionaries, where each dictionary represents a student with keys: name, subject1, subject2, subject3. Use list comprehension to create the list of dictionaries."
   ]
  },
  {
   "cell_type": "code",
   "metadata": {
    "ExecuteTime": {
     "end_time": "2024-07-27T21:28:25.724668Z",
     "start_time": "2024-07-27T21:28:25.718970Z"
    }
   },
   "source": [
    "# write your code here ^_^\n",
    "student_records = [\n",
    "    ('Firas', 85, 90, 80),\n",
    "    ('Meshal', 95, 80, 90),\n",
    "    ('Ryan', 95, 80, 90)\n",
    "]\n",
    "def create_student_records(student_records):\n",
    "    return [{'name': i[0],'subject1': i[1], 'subject2': i[2], 'subject3': i[3] } for i in student_records ]\n",
    "student_records_dict = create_student_records(student_records)\n",
    "print(student_records_dict)"
   ],
   "outputs": [
    {
     "name": "stdout",
     "output_type": "stream",
     "text": [
      "[{'Name': 'Firas', 'Subject1': 85, 'Subject2': 90, 'Subject3': 80}, {'Name': 'Meshal', 'Subject1': 95, 'Subject2': 80, 'Subject3': 90}, {'Name': 'Ryan', 'Subject1': 95, 'Subject2': 80, 'Subject3': 90}]\n"
     ]
    }
   ],
   "execution_count": 63
  },
  {
   "cell_type": "markdown",
   "metadata": {},
   "source": [
    "### Task 2\n",
    "- Write a function named **'filter_and_sort_students'** that takes the list of dictionaries from Question 1 and returns a sorted list of student names who have an average score of 80 or more across all subjects. Sort the names in alphabetical order."
   ]
  },
  {
   "cell_type": "code",
   "metadata": {
    "ExecuteTime": {
     "end_time": "2024-07-27T22:02:15.880067Z",
     "start_time": "2024-07-27T22:02:15.868314Z"
    }
   },
   "source": "",
   "outputs": [
    {
     "name": "stdout",
     "output_type": "stream",
     "text": [
      "he\n"
     ]
    }
   ],
   "execution_count": 75
  },
  {
   "cell_type": "code",
   "metadata": {
    "ExecuteTime": {
     "end_time": "2024-07-27T21:46:32.058384Z",
     "start_time": "2024-07-27T21:46:32.052278Z"
    }
   },
   "source": [
    "# write your code here ^_^\n",
    "\n",
    "def filter_and_sort_students(student_records_sort):\n",
    "    student_records_sort= [i for i in student_records_dict if sum(['subject1']+ ['subject2']+['subject3'])/3>=80]\n",
    "                           #if sum(['Subject1','Subject2','Subject3'])/3>=80] \n",
    "    \n",
    "    return student_records_sort\n",
    "    \n",
    "    \n",
    "filter_and_sort_students(student_records_dict)\n"
   ],
   "outputs": [],
   "execution_count": 70
  },
  {
   "cell_type": "markdown",
   "metadata": {},
   "source": [
    "### Task 3\n",
    "- Write a function named **'get_product_info'** that prompts the user to enter information about a product. The function should ask for the product name, product price, and product quantity. If the user enters an invalid input (e.g., a non-numeric value for the price or quantity), the function should handle the error and prompt the user to enter the value again. Return a dictionary containing the product information."
   ]
  },
  {
   "cell_type": "code",
   "metadata": {
    "ExecuteTime": {
     "end_time": "2024-07-27T22:18:49.442459Z",
     "start_time": "2024-07-27T22:18:34.430303Z"
    }
   },
   "source": [
    "# write your code here ^_^\n",
    "def get_product_info():\n",
    "  product_name = input(\"please enter product name: \")\n",
    "\n",
    "  while True:\n",
    "    try:\n",
    "      product_price = float(input(\"Please enter product price: \"))\n",
    "      break\n",
    "    except ValueError:\n",
    "      print(\"Invalid price. Please enter a number.\")\n",
    "\n",
    "  while True:\n",
    "    try:\n",
    "      product_quantity = int(input(\"please enter product quantity: \"))\n",
    "      break\n",
    "    except ValueError:\n",
    "      print(\"Invalid quantity. Please enter an integer.\")\n",
    "\n",
    "  return {\"name\": product_name, \"price\": product_price, \"quantity\": product_quantity}\n",
    "\n",
    "get_product_info()"
   ],
   "outputs": [
    {
     "data": {
      "text/plain": [
       "{'name': 'iphone', 'price': 4000.0, 'quantity': 10}"
      ]
     },
     "execution_count": 78,
     "metadata": {},
     "output_type": "execute_result"
    }
   ],
   "execution_count": 78
  },
  {
   "cell_type": "markdown",
   "metadata": {},
   "source": [
    "### Task 4\n",
    "- Write a function named **'get_even_numbers'** that takes a list of integers and returns a list of even numbers using list comprehension."
   ]
  },
  {
   "cell_type": "code",
   "metadata": {
    "ExecuteTime": {
     "end_time": "2024-07-27T23:43:11.769019Z",
     "start_time": "2024-07-27T23:43:11.750570Z"
    }
   },
   "source": [
    "# write your code here ^_^\n",
    "numbers = [1,2,3,4,5,6,7,8,9,10]\n",
    "\n",
    "def get_even_numbers(numbers):\n",
    "    even_numbers = [i for i in numbers if i % 2 == 0]\n",
    "    return even_numbers\n",
    "\n",
    "get_even_numbers(numbers)"
   ],
   "outputs": [
    {
     "data": {
      "text/plain": [
       "[2, 4, 6, 8, 10]"
      ]
     },
     "execution_count": 98,
     "metadata": {},
     "output_type": "execute_result"
    }
   ],
   "execution_count": 98
  },
  {
   "cell_type": "markdown",
   "metadata": {},
   "source": [
    "### Task 5\n",
    "- Write a function named **'pair_elements'** that takes two lists of equal length as parameters and returns a list of tuples, where each tuple contains corresponding elements from the two lists. Use the zip function to achieve this."
   ]
  },
  {
   "cell_type": "markdown",
   "metadata": {},
   "source": []
  },
  {
   "cell_type": "code",
   "metadata": {
    "ExecuteTime": {
     "end_time": "2024-07-27T23:33:43.884292Z",
     "start_time": "2024-07-27T23:33:43.866213Z"
    }
   },
   "source": [
    "# write your code here ^_^\n",
    "ls1 = ['Firas', 'Esaraa', 'Refal', 'Abdullah', 'Yasser', 'mohammed']\n",
    "lst2 = [24, 30, 27, 23, 29, 18]\n",
    "\n",
    "def pair_elements(lst1, lst2):\n",
    "    pair = tuple (zip(lst1, lst2))\n",
    "    for name, age in pair:\n",
    "        print(name, age)\n",
    "        \n",
    "pair_elements(ls1, lst2)"
   ],
   "outputs": [
    {
     "name": "stdout",
     "output_type": "stream",
     "text": [
      "Firas 24\n",
      "Esaraa 30\n",
      "Refal 27\n",
      "Abdullah 23\n",
      "Yasser 29\n",
      "mohammed 18\n"
     ]
    }
   ],
   "execution_count": 92
  },
  {
   "cell_type": "markdown",
   "metadata": {},
   "source": [
    "### Task 6\n",
    "- Write a function named **'square_dict_lambda'** that takes a list of integers and returns a dictionary where the keys are the integers and the values are their squares. Use a lambda function within a dictionary comprehension to achieve this."
   ]
  },
  {
   "cell_type": "code",
   "metadata": {
    "ExecuteTime": {
     "end_time": "2024-07-27T23:37:57.050958Z",
     "start_time": "2024-07-27T23:37:57.030620Z"
    }
   },
   "source": [
    "# write your code here ^_^\n",
    "numbers = [2, 4, 8, 9, 5, 6, 10]\n",
    "def square_dict_lambda(numbers):\n",
    "  \n",
    "  return {num: num**2 for num in numbers}\n",
    "\n",
    "square_dict_lambda(numbers)"
   ],
   "outputs": [
    {
     "data": {
      "text/plain": [
       "{2: 4, 4: 16, 8: 64, 9: 81, 5: 25, 6: 36, 10: 100}"
      ]
     },
     "execution_count": 96,
     "metadata": {},
     "output_type": "execute_result"
    }
   ],
   "execution_count": 96
  },
  {
   "metadata": {},
   "cell_type": "code",
   "outputs": [],
   "execution_count": null,
   "source": ""
  }
 ],
 "metadata": {
  "kernelspec": {
   "display_name": "Python 3 (ipykernel)",
   "language": "python",
   "name": "python3"
  },
  "language_info": {
   "codemirror_mode": {
    "name": "ipython",
    "version": 3
   },
   "file_extension": ".py",
   "mimetype": "text/x-python",
   "name": "python",
   "nbconvert_exporter": "python",
   "pygments_lexer": "ipython3",
   "version": "3.12.4"
  }
 },
 "nbformat": 4,
 "nbformat_minor": 4
}
