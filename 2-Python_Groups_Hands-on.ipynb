{
 "cells": [
  {
   "cell_type": "markdown",
   "metadata": {
    "id": "kZXiW0-J0-2x"
   },
   "source": [
    "# Python_Groups_Hands-on\n"
   ]
  },
  {
   "cell_type": "markdown",
   "metadata": {
    "id": "I05A6_S80-2y"
   },
   "source": [
    "## Project: Library Management System\n",
    "### Description:\n",
    "- Develop a basic Library Management System (LMS) that allows users to manage book records, including adding, updating, deleting, and displaying book information. The system should also provide basic statistical analysis.\n",
    "\n",
    "### System requirements:\n",
    "\n",
    "#### Data Structure Design:\n",
    "\n",
    "  - Define data structures using lists, tuples, dictionaries, and sets to store book information (e.g., book ID, title, author, year, genres).\n",
    "\n",
    "#### Basic Operations:\n",
    "\n",
    "- Implement functions to add, update, delete, and display book records.\n",
    "- Ensure proper type conversion and validation of inputs.\n",
    "\n",
    "#### Statistical Analysis:\n",
    "\n",
    "- Write functions to calculate and display the total number of books, the average publication year, and the most common genre.\n",
    "- Use list comprehensions and built-in functions (sort, len, zip, range) for calculations.\n",
    "\n",
    "#### Advanced Features:\n",
    "\n",
    "- Implement search functionality to find books by title or author using lambda functions.\n",
    "- Provide sorting options for book records based on different criteria (e.g., title, year).\n",
    "\n",
    "\n",
    "#### Exception Handling:\n",
    "\n",
    "- Handle potential errors (e.g., invalid input) using try-except blocks."
   ]
  },
  {
   "cell_type": "markdown",
   "metadata": {
    "id": "rXuH9y0_D76o"
   },
   "source": [
    "#### Q1: Using the following table, create a function to add these books to your library:\n",
    "\n",
    "\n",
    "\n",
    "| Book ID | Title                            | Author               | Year | Genres                              |\n",
    "|---------|----------------------------------|----------------------|------|-------------------------------------|\n",
    "| 1       | Harry Potter and the Sorcerer's Stone | J.K. Rowling         | 1997 | Fantasy, Young Adult                |\n",
    "| 2       | To Kill a Mockingbird             | Harper Lee           | 1960 | Fiction, Classics                   |\n",
    "| 3       | The Great Gatsby                  | F. Scott Fitzgerald  | 1925 | Fiction, Classics                   |\n",
    "| 4       | 1984                              | George Orwell        | 1949 | Fiction, Dystopian                  |\n",
    "| 5       | The Catcher in the Rye            | J.D. Salinger        | 1951 | Fiction, Classics                   |\n",
    "| 6       | Pride and Prejudice               | Jane Austen          | 1813 | Fiction, Romance, Classics          |\n",
    "| 7       | The Hobbit                        | J.R.R. Tolkien       | 1937 | Fantasy, Adventure                  |\n",
    "| 8       | The Hunger Games                  | Suzanne Collins      | 2008 | Science Fiction, Dystopian, Young Adult |\n",
    "| 9       | The Da Vinci Code                 | Dan Brown            | 2003 | Mystery, Thriller                   |\n",
    "| 10      | The Chronicles of Narnia          | C.S. Lewis           | 1950 | Fantasy, Children's Literature      |\n",
    "| 11      | Gone with the Wind                | Margaret Mitchell    | 1936 | Historical Fiction, Romance         |\n",
    "| 12      | Sapiens: A Brief History of Humankind | Yuval Noah Harari   | 2011 | Nonfiction, History, Science        |\n",
    "| 13      | The Road                          | Cormac McCarthy      | 2006 | Fiction, Post-Apocalyptic           |\n",
    "| 14      | The Girl with the Dragon Tattoo   | Stieg Larsson        | 2005 | Mystery, Thriller                   |\n",
    "| 15      | The Alchemist                     | Paulo Coelho         | 1988 | Fiction, Inspirational              |\n"
   ]
  },
  {
   "cell_type": "code",
   "execution_count": 80,
   "metadata": {
    "id": "BzV_B_g20-2z"
   },
   "outputs": [],
   "source": [
    "# write your code here ^_^\n",
    "import re \n",
    "\n",
    "x = \"\"\"\n",
    "| 1       | Harry Potter and the Sorcerer's Stone | J.K. Rowling         | 1997 | Fantasy, Young Adult                |\n",
    "| 2       | To Kill a Mockingbird             | Harper Lee           | 1960 | Fiction, Classics                   |\n",
    "| 3       | The Great Gatsby                  | F. Scott Fitzgerald  | 1925 | Fiction, Classics                   |\n",
    "| 4       | 1984                              | George Orwell        | 1949 | Fiction, Dystopian                  |\n",
    "| 5       | The Catcher in the Rye            | J.D. Salinger        | 1951 | Fiction, Classics                   |\n",
    "| 6       | Pride and Prejudice               | Jane Austen          | 1813 | Fiction, Romance, Classics          |\n",
    "| 7       | The Hobbit                        | J.R.R. Tolkien       | 1937 | Fantasy, Adventure                  |\n",
    "| 8       | The Hunger Games                  | Suzanne Collins      | 2008 | Science Fiction, Dystopian, Young Adult |\n",
    "| 9       | The Da Vinci Code                 | Dan Brown            | 2003 | Mystery, Thriller                   |\n",
    "| 10      | The Chronicles of Narnia          | C.S. Lewis           | 1950 | Fantasy, Children's Literature      |\n",
    "| 11      | Gone with the Wind                | Margaret Mitchell    | 1936 | Historical Fiction, Romance         |\n",
    "| 12      | Sapiens: A Brief History of Humankind | Yuval Noah Harari   | 2011 | Nonfiction, History, Science        |\n",
    "| 13      | The Road                          | Cormac McCarthy      | 2006 | Fiction, Post-Apocalyptic           |\n",
    "| 14      | The Girl with the Dragon Tattoo   | Stieg Larsson        | 2005 | Mystery, Thriller                   |\n",
    "| 15      | The Alchemist                     | Paulo Coelho         | 1988 | Fiction, Inspirational              |\n",
    "\"\"\"\n",
    "#Extract books from a string \n",
    "books = x.split('\\n')\n",
    "books= [string.split(\"|\") for string in books]\n",
    "books.remove([''])\n",
    "\n",
    "for miniList in books:\n",
    "    miniList.remove(\"\")\n",
    "    if '' in miniList:\n",
    "        miniList.remove('')\n",
    "    # print(miniList)\n",
    "books.pop()\n",
    "temp =[]\n",
    "for lst in books:\n",
    "    empty = []\n",
    "    for book in lst:\n",
    "        empty.append(re.sub(r\"\\s+\", \"\", book))\n",
    "    temp.append(empty)\n",
    "\n",
    "books = temp\n",
    "    "
   ]
  },
  {
   "cell_type": "code",
   "execution_count": 81,
   "metadata": {},
   "outputs": [],
   "source": [
    "books_dict = {}"
   ]
  },
  {
   "cell_type": "code",
   "execution_count": 82,
   "metadata": {},
   "outputs": [],
   "source": [
    "def add_book(book_id: str, title: str, author: str, year: str, genre: str): \n",
    "    if book_id in books_dict:\n",
    "        print(\"book id already exist!\")\n",
    "        return\n",
    "    if not book_id.isdigit():\n",
    "        print(\"Please Enter a correct id with numerical values only\")\n",
    "        return\n",
    "    books_dict[book_id] = {\"title\": title,\n",
    "                           \"author\": author,\n",
    "                           \"year\": year, \n",
    "                           \"genres\": genre}"
   ]
  },
  {
   "cell_type": "code",
   "execution_count": 83,
   "metadata": {},
   "outputs": [],
   "source": [
    "def print_dict(books_dict):\n",
    "    for k, v in books_dict.items():\n",
    "        print(v)"
   ]
  },
  {
   "cell_type": "code",
   "execution_count": 84,
   "metadata": {},
   "outputs": [],
   "source": [
    "for book in books:\n",
    "    add_book(book[0], book[1], book[2], book[3], book[4])\n",
    "    \n"
   ]
  },
  {
   "cell_type": "code",
   "execution_count": 85,
   "metadata": {},
   "outputs": [
    {
     "name": "stdout",
     "output_type": "stream",
     "text": [
      "{'title': \"HarryPotterandtheSorcerer'sStone\", 'author': 'J.K.Rowling', 'year': '1997', 'genres': 'Fantasy,YoungAdult'}\n",
      "{'title': 'ToKillaMockingbird', 'author': 'HarperLee', 'year': '1960', 'genres': 'Fiction,Classics'}\n",
      "{'title': 'TheGreatGatsby', 'author': 'F.ScottFitzgerald', 'year': '1925', 'genres': 'Fiction,Classics'}\n",
      "{'title': '1984', 'author': 'GeorgeOrwell', 'year': '1949', 'genres': 'Fiction,Dystopian'}\n",
      "{'title': 'TheCatcherintheRye', 'author': 'J.D.Salinger', 'year': '1951', 'genres': 'Fiction,Classics'}\n",
      "{'title': 'PrideandPrejudice', 'author': 'JaneAusten', 'year': '1813', 'genres': 'Fiction,Romance,Classics'}\n",
      "{'title': 'TheHobbit', 'author': 'J.R.R.Tolkien', 'year': '1937', 'genres': 'Fantasy,Adventure'}\n",
      "{'title': 'TheHungerGames', 'author': 'SuzanneCollins', 'year': '2008', 'genres': 'ScienceFiction,Dystopian,YoungAdult'}\n",
      "{'title': 'TheDaVinciCode', 'author': 'DanBrown', 'year': '2003', 'genres': 'Mystery,Thriller'}\n",
      "{'title': 'TheChroniclesofNarnia', 'author': 'C.S.Lewis', 'year': '1950', 'genres': \"Fantasy,Children'sLiterature\"}\n",
      "{'title': 'GonewiththeWind', 'author': 'MargaretMitchell', 'year': '1936', 'genres': 'HistoricalFiction,Romance'}\n",
      "{'title': 'Sapiens:ABriefHistoryofHumankind', 'author': 'YuvalNoahHarari', 'year': '2011', 'genres': 'Nonfiction,History,Science'}\n",
      "{'title': 'TheRoad', 'author': 'CormacMcCarthy', 'year': '2006', 'genres': 'Fiction,Post-Apocalyptic'}\n",
      "{'title': 'TheGirlwiththeDragonTattoo', 'author': 'StiegLarsson', 'year': '2005', 'genres': 'Mystery,Thriller'}\n",
      "{'title': 'TheAlchemist', 'author': 'PauloCoelho', 'year': '1988', 'genres': 'Fiction,Inspirational'}\n"
     ]
    }
   ],
   "source": [
    "print_dict(books_dict)"
   ]
  },
  {
   "cell_type": "markdown",
   "metadata": {
    "id": "kR5bvgOsF3oJ"
   },
   "source": [
    "#### Q2: Create a function that updates books exsisted in your library and test it.\n",
    "- **Note**: If the user entered wrong book ID it should print \"Book with ID 'num' does not exist."
   ]
  },
  {
   "cell_type": "code",
   "execution_count": 86,
   "metadata": {
    "id": "U60cFkbUUYmj"
   },
   "outputs": [],
   "source": [
    "def update_book(book_id: str, title: str, author: str, year: str, genre: str):\n",
    "    if  not (book_id in books_dict):\n",
    "        print(\"Book with ID %d does not exist.\" % book_id)\n",
    "        return\n",
    "    books_dict[book_id] = {\"title\": title,\n",
    "                           \"author\": author,\n",
    "                           \"year\": year, \n",
    "                           \"genres\": genre}"
   ]
  },
  {
   "cell_type": "markdown",
   "metadata": {
    "id": "ME3j_m-eLhyH"
   },
   "source": [
    "#### Q3: Create a function to delete books from your library and test it."
   ]
  },
  {
   "cell_type": "code",
   "execution_count": 87,
   "metadata": {
    "id": "JlGIx-gJUadK"
   },
   "outputs": [],
   "source": [
    "# write your code here ^_^\n",
    "\n",
    "def delete_book(book_id: str):\n",
    "    if book_id not in books_dict:\n",
    "        print(\"The book doesn't exist! \")\n",
    "    books_dict.pop(book_id)"
   ]
  },
  {
   "cell_type": "markdown",
   "metadata": {
    "id": "MIamnChwNgFr"
   },
   "source": [
    "#### Q4: Create a function that displays books information from your library and test it."
   ]
  },
  {
   "cell_type": "code",
   "execution_count": 88,
   "metadata": {
    "id": "xFNIK3YvUbz5"
   },
   "outputs": [],
   "source": [
    "# write your code here ^_^\n",
    "def show_info():\n",
    "    print_dict(books_dict)\n",
    "    "
   ]
  },
  {
   "cell_type": "markdown",
   "metadata": {
    "id": "OvfdKdBqNt22"
   },
   "source": [
    "#### Q5: Create functions to do the following: calculates and display the total number of books, the average publication year, and the most common genre. and test it."
   ]
  },
  {
   "cell_type": "code",
   "execution_count": 93,
   "metadata": {
    "id": "mWg5eHIWUcsU"
   },
   "outputs": [],
   "source": [
    "def total_books(books_dict):\n",
    "    return len(books_dict)\n",
    "\n",
    "def avg_year(books_dict):\n",
    "    if not books_dict:\n",
    "        return None\n",
    "    total_years = sum(int(book[\"year\"]) for book in books_dict.values())\n",
    "    return total_years / len(books_dict)\n",
    "def most_common():\n",
    "    array = count_gener()\n",
    "    print(array)\n",
    "    my_result = max(array, key = lambda x: x[1])\n",
    "    return my_result\n",
    "\n"
   ]
  },
  {
   "cell_type": "code",
   "execution_count": 94,
   "metadata": {},
   "outputs": [
    {
     "name": "stdout",
     "output_type": "stream",
     "text": [
      "[('Fantasy', 3), ('YoungAdult', 2), ('Fiction', 7), ('Classics', 4), ('Dystopian', 2), ('Romance', 2), ('Adventure', 1), ('ScienceFiction', 1), ('Mystery', 2), ('Thriller', 2), (\"Children'sLiterature\", 1), ('HistoricalFiction', 1), ('Nonfiction', 1), ('History', 1), ('Science', 1), ('Post-Apocalyptic', 1), ('Inspirational', 1)]\n"
     ]
    },
    {
     "data": {
      "text/plain": [
       "('Fiction', 7)"
      ]
     },
     "execution_count": 94,
     "metadata": {},
     "output_type": "execute_result"
    }
   ],
   "source": [
    "most_common()"
   ]
  },
  {
   "cell_type": "markdown",
   "metadata": {
    "id": "IuVLtf7dQaUW"
   },
   "source": [
    "#### Q6: Create 2 functions to search for books by the title and the author from your library and test it."
   ]
  },
  {
   "cell_type": "code",
   "execution_count": 95,
   "metadata": {
    "id": "7LnwRJLCUe3p"
   },
   "outputs": [],
   "source": [
    "# write your code here ^_^\n",
    "\n",
    "def search_author(author: str):\n",
    "    flag = True\n",
    "    for key in books_dict:\n",
    "        if books_dict[key][\"author\"] in author:\n",
    "            print(books_dict[key])\n",
    "            flag = False\n",
    "    if flag:\n",
    "        print(\"author doesn't exist in the books\")\n",
    "        \n",
    "\n",
    "def search_title(title: str):\n",
    "    flag = True\n",
    "    for key in books_dict:\n",
    "        if books_dict[key][\"title\"] in title:\n",
    "            print(books_dict[key])\n",
    "            flag = False\n",
    "    if flag:\n",
    "        print(\"Title doesn't exist in the books\")"
   ]
  },
  {
   "cell_type": "code",
   "execution_count": 96,
   "metadata": {},
   "outputs": [
    {
     "name": "stdout",
     "output_type": "stream",
     "text": [
      "{'title': \"HarryPotterandtheSorcerer'sStone\", 'author': 'J.K.Rowling', 'year': '1997', 'genres': 'Fantasy,YoungAdult'}\n",
      "{'title': '1984', 'author': 'GeorgeOrwell', 'year': '1949', 'genres': 'Fiction,Dystopian'}\n"
     ]
    }
   ],
   "source": [
    "search_author(\"J.K.Rowling\")\n",
    "search_title(\"1984\")"
   ]
  },
  {
   "cell_type": "markdown",
   "metadata": {
    "id": "fAu2ozKBQzJu"
   },
   "source": [
    "#### Q7: Create 2 functions to sort the books by the title and the year from your library and test it."
   ]
  },
  {
   "cell_type": "code",
   "execution_count": 97,
   "metadata": {
    "id": "X4PyuHTMUgHl"
   },
   "outputs": [],
   "source": [
    "# write your code here ^_^\n",
    "\n",
    "def sort_title():\n",
    "    temp = [(key, value[\"title\"]) for key, value in books_dict.items()]\n",
    "    temp.sort(key=lambda x: x[1])\n",
    "    books_dict_sorted = {key: books_dict[key] for key, val in temp} \n",
    "    # print(\"Sorted by Title: \", books_dict_sorted)\n",
    "    return books_dict_sorted\n",
    "def sort_year():\n",
    "    temp = [(key, value[\"year\"]) for key, value in books_dict.items()]\n",
    "    temp.sort(key=lambda x: x[1])\n",
    "    books_dict_sorted = {key: books_dict[key] for key, val in temp} \n",
    "    # print(\"Sorted by Year: \", books_dict_sorted)\n",
    "    return books_dict_sorted"
   ]
  },
  {
   "cell_type": "code",
   "execution_count": 98,
   "metadata": {},
   "outputs": [
    {
     "data": {
      "text/plain": [
       "{'6': {'title': 'PrideandPrejudice',\n",
       "  'author': 'JaneAusten',\n",
       "  'year': '1813',\n",
       "  'genres': 'Fiction,Romance,Classics'},\n",
       " '3': {'title': 'TheGreatGatsby',\n",
       "  'author': 'F.ScottFitzgerald',\n",
       "  'year': '1925',\n",
       "  'genres': 'Fiction,Classics'},\n",
       " '11': {'title': 'GonewiththeWind',\n",
       "  'author': 'MargaretMitchell',\n",
       "  'year': '1936',\n",
       "  'genres': 'HistoricalFiction,Romance'},\n",
       " '7': {'title': 'TheHobbit',\n",
       "  'author': 'J.R.R.Tolkien',\n",
       "  'year': '1937',\n",
       "  'genres': 'Fantasy,Adventure'},\n",
       " '4': {'title': '1984',\n",
       "  'author': 'GeorgeOrwell',\n",
       "  'year': '1949',\n",
       "  'genres': 'Fiction,Dystopian'},\n",
       " '10': {'title': 'TheChroniclesofNarnia',\n",
       "  'author': 'C.S.Lewis',\n",
       "  'year': '1950',\n",
       "  'genres': \"Fantasy,Children'sLiterature\"},\n",
       " '5': {'title': 'TheCatcherintheRye',\n",
       "  'author': 'J.D.Salinger',\n",
       "  'year': '1951',\n",
       "  'genres': 'Fiction,Classics'},\n",
       " '2': {'title': 'ToKillaMockingbird',\n",
       "  'author': 'HarperLee',\n",
       "  'year': '1960',\n",
       "  'genres': 'Fiction,Classics'},\n",
       " '15': {'title': 'TheAlchemist',\n",
       "  'author': 'PauloCoelho',\n",
       "  'year': '1988',\n",
       "  'genres': 'Fiction,Inspirational'},\n",
       " '1': {'title': \"HarryPotterandtheSorcerer'sStone\",\n",
       "  'author': 'J.K.Rowling',\n",
       "  'year': '1997',\n",
       "  'genres': 'Fantasy,YoungAdult'},\n",
       " '9': {'title': 'TheDaVinciCode',\n",
       "  'author': 'DanBrown',\n",
       "  'year': '2003',\n",
       "  'genres': 'Mystery,Thriller'},\n",
       " '14': {'title': 'TheGirlwiththeDragonTattoo',\n",
       "  'author': 'StiegLarsson',\n",
       "  'year': '2005',\n",
       "  'genres': 'Mystery,Thriller'},\n",
       " '13': {'title': 'TheRoad',\n",
       "  'author': 'CormacMcCarthy',\n",
       "  'year': '2006',\n",
       "  'genres': 'Fiction,Post-Apocalyptic'},\n",
       " '8': {'title': 'TheHungerGames',\n",
       "  'author': 'SuzanneCollins',\n",
       "  'year': '2008',\n",
       "  'genres': 'ScienceFiction,Dystopian,YoungAdult'},\n",
       " '12': {'title': 'Sapiens:ABriefHistoryofHumankind',\n",
       "  'author': 'YuvalNoahHarari',\n",
       "  'year': '2011',\n",
       "  'genres': 'Nonfiction,History,Science'}}"
      ]
     },
     "execution_count": 98,
     "metadata": {},
     "output_type": "execute_result"
    }
   ],
   "source": [
    "sort_title()\n",
    "sort_year()"
   ]
  },
  {
   "cell_type": "markdown",
   "metadata": {
    "id": "KiaFO8rdiv4u"
   },
   "source": [
    "#### Q8: Create a function to bulk update genres of books using list comprehension. and test it."
   ]
  },
  {
   "cell_type": "code",
   "execution_count": 102,
   "metadata": {
    "id": "AbvXyE96UhVt"
   },
   "outputs": [],
   "source": [
    "def update_genres(book_id, new_genres):\n",
    "    if book_id in books_dict:\n",
    "        books_dict[book_id] ['genres']= new_genres"
   ]
  },
  {
   "cell_type": "markdown",
   "metadata": {
    "id": "ZWkmOUNgi6V_"
   },
   "source": [
    "#### Q9: Implement a function to generate a report summarizing the library's statistics, including the total number of books, the number of books by each author, the number of books in each genre, and the oldest and newest books. and test it."
   ]
  },
  {
   "cell_type": "code",
   "execution_count": 103,
   "metadata": {
    "id": "Okjlb9pTUloe"
   },
   "outputs": [],
   "source": [
    "# write your code here ^_^\n",
    "\n",
    "def display_stat():\n",
    "    print(\"total number of books: \", len(books_dict))\n",
    "    print()\n",
    "    print(\"the authors and their occurances: \")\n",
    "    print(count_author())\n",
    "    print(\"the number of books in each Genere: \")\n",
    "    print(count_gener())\n",
    "    print(\"the oldest book: \")\n",
    "    get_oldest()\n",
    "    print(\"The newest book: \")\n",
    "    get_newest()\n"
   ]
  },
  {
   "cell_type": "code",
   "execution_count": 104,
   "metadata": {},
   "outputs": [],
   "source": [
    "def count_author():\n",
    "    names = [books_dict[key][\"author\"] for key in books_dict]\n",
    "    counts = [names.count(name) for name in names]\n",
    "    name_count = list(zip(names, counts))\n",
    "    return name_count"
   ]
  },
  {
   "cell_type": "code",
   "execution_count": 105,
   "metadata": {},
   "outputs": [],
   "source": [
    "def get_oldest(): \n",
    "    sorted_dict = sort_year()\n",
    "    keys = list(sorted_dict)\n",
    "    print(books_dict[keys[0]])\n",
    "def get_newest():\n",
    "    sorted_dict = sort_year()\n",
    "    keys = list(sorted_dict)\n",
    "    print(books_dict[keys[-1]])\n"
   ]
  },
  {
   "cell_type": "code",
   "execution_count": 106,
   "metadata": {},
   "outputs": [],
   "source": [
    "def count_gener():\n",
    "    generes = [books_dict[key][\"genres\"].split(',') for key in books_dict]\n",
    "    temp = []\n",
    "    for lst in generes:\n",
    "        for j in range(0, len(lst)):\n",
    "            if lst[j] not in temp:\n",
    "                temp.append(lst[j])\n",
    "    counts = [0 for _ in temp]\n",
    "    for i in range(len(temp)):\n",
    "        for genere in generes:\n",
    "            for string in genere:\n",
    "                if temp[i] == string:\n",
    "                    counts[i] += 1\n",
    "    return list(zip(temp, counts))\n"
   ]
  },
  {
   "cell_type": "code",
   "execution_count": 107,
   "metadata": {},
   "outputs": [
    {
     "name": "stdout",
     "output_type": "stream",
     "text": [
      "total number of books:  15\n",
      "\n",
      "the authors and their occurances: \n",
      "[('J.K.Rowling', 1), ('HarperLee', 1), ('F.ScottFitzgerald', 1), ('GeorgeOrwell', 1), ('J.D.Salinger', 1), ('JaneAusten', 1), ('J.R.R.Tolkien', 1), ('SuzanneCollins', 1), ('DanBrown', 1), ('C.S.Lewis', 1), ('MargaretMitchell', 1), ('YuvalNoahHarari', 1), ('CormacMcCarthy', 1), ('StiegLarsson', 1), ('PauloCoelho', 1)]\n",
      "the number of books in each Genere: \n",
      "[('Fantasy', 3), ('YoungAdult', 2), ('Fiction', 7), ('Classics', 4), ('Dystopian', 2), ('Romance', 2), ('Adventure', 1), ('ScienceFiction', 1), ('Mystery', 2), ('Thriller', 2), (\"Children'sLiterature\", 1), ('HistoricalFiction', 1), ('Nonfiction', 1), ('History', 1), ('Science', 1), ('Post-Apocalyptic', 1), ('Inspirational', 1)]\n",
      "the oldest book: \n",
      "{'title': 'PrideandPrejudice', 'author': 'JaneAusten', 'year': '1813', 'genres': 'Fiction,Romance,Classics'}\n",
      "The newest book: \n",
      "{'title': 'Sapiens:ABriefHistoryofHumankind', 'author': 'YuvalNoahHarari', 'year': '2011', 'genres': 'Nonfiction,History,Science'}\n"
     ]
    }
   ],
   "source": [
    "display_stat()"
   ]
  },
  {
   "cell_type": "code",
   "execution_count": 108,
   "metadata": {},
   "outputs": [
    {
     "data": {
      "text/plain": [
       "[('Fantasy', 3),\n",
       " ('YoungAdult', 2),\n",
       " ('Fiction', 7),\n",
       " ('Classics', 4),\n",
       " ('Dystopian', 2),\n",
       " ('Romance', 2),\n",
       " ('Adventure', 1),\n",
       " ('ScienceFiction', 1),\n",
       " ('Mystery', 2),\n",
       " ('Thriller', 2),\n",
       " (\"Children'sLiterature\", 1),\n",
       " ('HistoricalFiction', 1),\n",
       " ('Nonfiction', 1),\n",
       " ('History', 1),\n",
       " ('Science', 1),\n",
       " ('Post-Apocalyptic', 1),\n",
       " ('Inspirational', 1)]"
      ]
     },
     "execution_count": 108,
     "metadata": {},
     "output_type": "execute_result"
    }
   ],
   "source": [
    "count_gener()"
   ]
  },
  {
   "cell_type": "code",
   "execution_count": null,
   "metadata": {},
   "outputs": [],
   "source": []
  }
 ],
 "metadata": {
  "colab": {
   "provenance": []
  },
  "kernelspec": {
   "display_name": "Python 3 (ipykernel)",
   "language": "python",
   "name": "python3"
  },
  "language_info": {
   "codemirror_mode": {
    "name": "ipython",
    "version": 3
   },
   "file_extension": ".py",
   "mimetype": "text/x-python",
   "name": "python",
   "nbconvert_exporter": "python",
   "pygments_lexer": "ipython3",
   "version": "3.12.4"
  }
 },
 "nbformat": 4,
 "nbformat_minor": 4
}
